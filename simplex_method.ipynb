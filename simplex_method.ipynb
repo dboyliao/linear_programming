{
 "cells": [
  {
   "cell_type": "code",
   "execution_count": 1,
   "metadata": {},
   "outputs": [
    {
     "data": {
      "image/jpeg": "[encoded data removed]",
      "text/html": [
       "\n",
       "        <iframe\n",
       "            width=\"600\"\n",
       "            height=\"450\"\n",
       "            src=\"https://www.youtube.com/embed/d5bCzrFTKLA\"\n",
       "            frameborder=\"0\"\n",
       "            allowfullscreen\n",
       "        ></iframe>\n",
       "        "
      ],
      "text/plain": [
       "<IPython.lib.display.YouTubeVideo at 0x10c572978>"
      ]
     },
     "metadata": {},
     "output_type": "display_data"
    }
   ],
   "source": [
    "from __future__ import print_function\n",
    "import numpy as np\n",
    "from IPython.display import YouTubeVideo, display\n",
    "\n",
    "display(YouTubeVideo(\"d5bCzrFTKLA\", 600, 450))"
   ]
  },
  {
   "cell_type": "markdown",
   "metadata": {},
   "source": [
    "## Simplex Method\n",
    "\n",
    "**Solving**\n",
    "\n",
    "$$\n",
    "\\min c^Tx \\\\\n",
    "Ax = b \\\\\n",
    "x \\geq 0\n",
    "$$\n",
    "\n",
    "1. Let $A = [B | N]$ \n",
    "2. Find fundamental matrix $M$"
   ]
  },
  {
   "cell_type": "code",
   "execution_count": 2,
   "metadata": {
    "collapsed": true
   },
   "outputs": [],
   "source": [
    "def rearange(arr, basic_indices):\n",
    "    arr_aranged = np.zeros_like(arr.T)\n",
    "    non_basic_indices = [i for i in range(arr_aranged.shape[0]) if not i in basic_indices]\n",
    "    indices = basic_indices + non_basic_indices\n",
    "    arr_aranged[:] = arr.T[indices]\n",
    "    return arr_aranged.T"
   ]
  },
  {
   "cell_type": "code",
   "execution_count": 3,
   "metadata": {
    "collapsed": true
   },
   "outputs": [],
   "source": [
    "def arange_back(arr_aranged, basic_indices):\n",
    "    arr = np.zeros_like(arr_aranged.T)\n",
    "    non_basic_indices = [i for i in range(arr.shape[0]) if not i in basic_indices]\n",
    "    indices = basic_indices + non_basic_indices\n",
    "    pairs = [p for p in enumerate(indices)]\n",
    "    pairs.sort(key=lambda p: p[1])\n",
    "    reordered_indices = [p[0] for p in pairs]\n",
    "    arr[:] = arr_aranged.T[reordered_indices]\n",
    "    return arr.T"
   ]
  },
  {
   "cell_type": "code",
   "execution_count": 11,
   "metadata": {
    "collapsed": true
   },
   "outputs": [],
   "source": [
    "def non_basic_indices(n, basic_indices):\n",
    "    non_basic = [i for i in range(n) if not i in basic_indices]\n",
    "    return non_basic"
   ]
  },
  {
   "cell_type": "code",
   "execution_count": 22,
   "metadata": {
    "collapsed": true
   },
   "outputs": [],
   "source": [
    "def index_map(n, basic_indices):\n",
    "    \"\"\"\n",
    "    Given the number of columns, n, return a list of tuples\n",
    "    \n",
    "    for each tuple t, t[0] is the new column index\n",
    "    t[1] is the original column index\n",
    "    \"\"\"\n",
    "    non_basic = non_basic_indices(n, basic_indices)\n",
    "    all_indices = basic_indices + non_basic\n",
    "    index_map = dict([p for p in enumerate(all_indices)])\n",
    "    \n",
    "    return index_map"
   ]
  },
  {
   "cell_type": "code",
   "execution_count": 5,
   "metadata": {
    "collapsed": true
   },
   "outputs": [],
   "source": [
    "def get_fundamental_matrix(A, b_indices):\n",
    "    m, n = A.shape\n",
    "    A_new = rearange(A, b_indices)\n",
    "    B = A_new[:,:m]\n",
    "    N = A_new[:,m:]\n",
    "    M = np.eye(n)\n",
    "    M[:m,:B.shape[1]] = B\n",
    "    M[:m,B.shape[1]:] = N\n",
    "    return M"
   ]
  },
  {
   "cell_type": "code",
   "execution_count": 6,
   "metadata": {
    "collapsed": true
   },
   "outputs": [],
   "source": [
    "def compute_cost(A, c, b_indices):\n",
    "    m, n = A.shape\n",
    "    M = get_fundamental_matrix(A, b_indices)\n",
    "    c_new = rearange(c, b_indices)\n",
    "    M_inv = np.linalg.inv(M)\n",
    "    costs = c_new.dot(M_inv)\n",
    "    \n",
    "    return costs"
   ]
  },
  {
   "cell_type": "code",
   "execution_count": 28,
   "metadata": {
    "collapsed": true
   },
   "outputs": [],
   "source": [
    "def solve_x(A, b, b_indices):\n",
    "    x = np.zeros(A.shape[1])\n",
    "    B = A[:,b_indices]\n",
    "    x_b = np.linalg.inv(B).dot(b)\n",
    "    x[:len(b_indices)] = x_b\n",
    "    return x"
   ]
  },
  {
   "cell_type": "code",
   "execution_count": 54,
   "metadata": {
    "collapsed": true
   },
   "outputs": [],
   "source": [
    "def is_optimal(A, c, b_indices):\n",
    "    m, n = A.shape\n",
    "    cost = compute_cost(A, c, b_indices)\n",
    "    if np.min(cost[m:]) >= 0:\n",
    "        return True\n",
    "    return False"
   ]
  },
  {
   "cell_type": "code",
   "execution_count": 38,
   "metadata": {
    "collapsed": true
   },
   "outputs": [],
   "source": [
    "def pick_one_direction(A, c, b_indices):\n",
    "    \"\"\"\n",
    "    Pick one edge direction for M\n",
    "    \"\"\"\n",
    "    if is_optimal(A, c, b_indices):\n",
    "        return None\n",
    "    cost = compute_cost(A, c, b_indices)\n",
    "    for i, c in enumerate(cost[len(b_indices):], 1):\n",
    "        if c < 0:\n",
    "            return len(b_indices)+i"
   ]
  },
  {
   "cell_type": "code",
   "execution_count": 75,
   "metadata": {
    "collapsed": true
   },
   "outputs": [],
   "source": [
    "def solver_simplex(A, c, b, b_indices_init):\n",
    "    \"\"\"\n",
    "    Solve:\n",
    "        min c^T x\n",
    "        Ax = b\n",
    "        x >= 0\n",
    "    params\n",
    "    ======\n",
    "    - c: 1D array of length n\n",
    "    - A: m by n matrix (m < n)\n",
    "    - b: 1D array of length m\n",
    "    \n",
    "    return\n",
    "    ======\n",
    "    - x: 1D array of length n\n",
    "    \"\"\"\n",
    "    m, n = A.shape\n",
    "    x = solve_x(A, b, b_indices_init)\n",
    "    \n",
    "    # check optimality\n",
    "    if is_optimal(A, c, b_indices_init):\n",
    "        return arange_back(x, b_indices_init)\n",
    "    \n",
    "    b_indices = b_indices_init\n",
    "    print(\"original \", b_indices)\n",
    "    while True:\n",
    "        col_index_map = index_map(n, b_indices)\n",
    "        cost = compute_cost(A, c, b_indices)\n",
    "        \n",
    "        # check boundness\n",
    "        M = get_fundamental_matrix(A, b_indices)\n",
    "        if np.all(M > 0):\n",
    "            print(\"Unbounded LP, abort\")\n",
    "            return None\n",
    "        q_index = pick_one_direction(A, c, b_indices)\n",
    "        dq = M[:, q_index]\n",
    "        q_index = col_index_map[q_index]\n",
    "        alpha = np.inf\n",
    "        candidate_index = 0\n",
    "        for i, dqi in enumerate(dq[:m]):\n",
    "            if dqi >= 0:\n",
    "                continue\n",
    "            temp_alpha = -x[i]/dqi\n",
    "            if temp_alpha < alpha:\n",
    "                candidate_index = i\n",
    "        candidate_index = col_index_map[candidate_index]\n",
    "        b_indices = list(filter(lambda x: not x == candidate_index, b_indices)) + [q_index]\n",
    "        print(b_indices)\n",
    "        if is_optimal(A, c, b_indices):\n",
    "            print(\"Meet optimality\")\n",
    "            x = solve_x(A, b, b_indices)\n",
    "            break\n",
    "    return arange_back(x, b_indices)"
   ]
  },
  {
   "cell_type": "code",
   "execution_count": 76,
   "metadata": {},
   "outputs": [
    {
     "name": "stdout",
     "output_type": "stream",
     "text": [
      "original  [2, 3]\n",
      "[3, 1]\n",
      "[1, 2]\n",
      "Meet optimality\n"
     ]
    }
   ],
   "source": [
    "A = np.array([[1, 1, 1, 0],\n",
    "              [2, 1, 0, 1]])\n",
    "b = np.array([40, 60])\n",
    "c = np.array([-1.5, -1, 0, 0])\n",
    "\n",
    "x = solver_simplex(A, c, b, [2,3])"
   ]
  },
  {
   "cell_type": "code",
   "execution_count": 68,
   "metadata": {},
   "outputs": [
    {
     "data": {
      "text/plain": [
       "array([  0.,  60., -20.,   0.])"
      ]
     },
     "execution_count": 68,
     "metadata": {},
     "output_type": "execute_result"
    }
   ],
   "source": [
    "x"
   ]
  },
  {
   "cell_type": "markdown",
   "metadata": {},
   "source": [
    "------"
   ]
  },
  {
   "cell_type": "code",
   "execution_count": 79,
   "metadata": {
    "collapsed": true
   },
   "outputs": [],
   "source": [
    "A = np.array([[1, 0, 1, 0],\n",
    "              [0, 1, 0, 1]])\n",
    "b = np.array([1, 1])\n",
    "c = np.array([-1, -1, 0, 0])"
   ]
  },
  {
   "cell_type": "code",
   "execution_count": 80,
   "metadata": {},
   "outputs": [],
   "source": [
    "x = solver_simplex(A, c, b, [0, 1])"
   ]
  },
  {
   "cell_type": "code",
   "execution_count": 81,
   "metadata": {},
   "outputs": [
    {
     "data": {
      "text/plain": [
       "array([ 1.,  1.,  0.,  0.])"
      ]
     },
     "execution_count": 81,
     "metadata": {},
     "output_type": "execute_result"
    }
   ],
   "source": [
    "x"
   ]
  },
  {
   "cell_type": "code",
   "execution_count": null,
   "metadata": {
    "collapsed": true
   },
   "outputs": [],
   "source": []
  }
 ],
 "metadata": {
  "kernelspec": {
   "display_name": "Python 3",
   "language": "python",
   "name": "python3"
  },
  "language_info": {
   "codemirror_mode": {
    "name": "ipython",
    "version": 3
   },
   "file_extension": ".py",
   "mimetype": "text/x-python",
   "name": "python",
   "nbconvert_exporter": "python",
   "pygments_lexer": "ipython3",
   "version": "3.6.1"
  }
 },
 "nbformat": 4,
 "nbformat_minor": 2
}
